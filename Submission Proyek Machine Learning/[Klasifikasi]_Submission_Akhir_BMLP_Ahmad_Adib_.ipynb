{
  "nbformat": 4,
  "nbformat_minor": 0,
  "metadata": {
    "colab": {
      "provenance": []
    },
    "kernelspec": {
      "name": "python3",
      "display_name": "Python 3"
    },
    "language_info": {
      "name": "python"
    }
  },
  "cells": [
    {
      "cell_type": "markdown",
      "source": [
        "# **1. Import Library**"
      ],
      "metadata": {
        "id": "fKADPWcFKlj3"
      }
    },
    {
      "cell_type": "markdown",
      "source": [
        "Pada tahap ini, Anda perlu mengimpor beberapa pustaka (library) Python yang dibutuhkan untuk analisis data dan pembangunan model machine learning."
      ],
      "metadata": {
        "id": "LgA3ERnVn84N"
      }
    },
    {
      "cell_type": "code",
      "source": [
        "import pandas as pd\n",
        "import numpy as np\n",
        "import matplotlib.pyplot as plt\n",
        "import seaborn as sns\n",
        "from sklearn.model_selection import train_test_split\n",
        "from sklearn.preprocessing import StandardScaler, LabelEncoder\n",
        "from sklearn.linear_model import LogisticRegression\n",
        "from sklearn.ensemble import RandomForestClassifier\n",
        "from sklearn.metrics import accuracy_score, f1_score, confusion_matrix, classification_report"
      ],
      "metadata": {
        "id": "BlmvjLY9M4Yj"
      },
      "execution_count": 41,
      "outputs": []
    },
    {
      "cell_type": "markdown",
      "source": [
        "# **2. Memuat Dataset dari Hasil Clustering**"
      ],
      "metadata": {
        "id": "f3YIEnAFKrKL"
      }
    },
    {
      "cell_type": "markdown",
      "source": [
        "Memuat dataset hasil clustering dari file CSV ke dalam variabel DataFrame."
      ],
      "metadata": {
        "id": "Ey3ItwTen_7E"
      }
    },
    {
      "cell_type": "code",
      "source": [
        "dataset = pd.read_csv(\"Customers_with_Clusters.csv\")\n",
        "print(\"\\nInformasi Dataset:\")\n",
        "print(dataset.info())\n",
        "print(\"\\n5 Baris Pertama Dataset:\")\n",
        "print(dataset.head())"
      ],
      "metadata": {
        "colab": {
          "base_uri": "https://localhost:8080/"
        },
        "id": "V3Mnk0m1OgpU",
        "outputId": "36160312-30d7-4bc8-ad9b-9888a97257ab"
      },
      "execution_count": 42,
      "outputs": [
        {
          "output_type": "stream",
          "name": "stdout",
          "text": [
            "\n",
            "Informasi Dataset:\n",
            "<class 'pandas.core.frame.DataFrame'>\n",
            "RangeIndex: 2000 entries, 0 to 1999\n",
            "Data columns (total 12 columns):\n",
            " #   Column                  Non-Null Count  Dtype  \n",
            "---  ------                  --------------  -----  \n",
            " 0   CustomerID              2000 non-null   int64  \n",
            " 1   Gender                  2000 non-null   int64  \n",
            " 2   Age                     2000 non-null   float64\n",
            " 3   Annual Income ($)       2000 non-null   float64\n",
            " 4   Spending Score (1-100)  2000 non-null   float64\n",
            " 5   Profession              2000 non-null   int64  \n",
            " 6   Work Experience         2000 non-null   float64\n",
            " 7   Family Size             2000 non-null   float64\n",
            " 8   Cluster                 2000 non-null   int64  \n",
            " 9   Cluster_Selected        2000 non-null   int64  \n",
            " 10  PCA1                    2000 non-null   float64\n",
            " 11  PCA2                    2000 non-null   float64\n",
            "dtypes: float64(7), int64(5)\n",
            "memory usage: 187.6 KB\n",
            "None\n",
            "\n",
            "5 Baris Pertama Dataset:\n",
            "   CustomerID  Gender       Age  Annual Income ($)  Spending Score (1-100)  \\\n",
            "0           1       1 -1.054089          -2.093501               -0.428339   \n",
            "1           2       1 -0.983723          -1.656133                1.075546   \n",
            "2           3       0 -1.018906          -0.540845               -1.609962   \n",
            "3           4       0 -0.913356          -1.131292                0.932319   \n",
            "4           5       0 -0.631891          -1.590528               -0.392532   \n",
            "\n",
            "   Profession  Work Experience  Family Size  Cluster  Cluster_Selected  \\\n",
            "0           5        -0.791207     0.117497        2                 2   \n",
            "1           2        -0.281162    -0.390051        2                 0   \n",
            "2           2        -0.791207    -1.405148        2                 2   \n",
            "3           7        -1.046230    -0.897599        2                 0   \n",
            "4           3        -0.536185     1.132594        2                 2   \n",
            "\n",
            "       PCA1      PCA2  \n",
            "0 -1.915036  0.137402  \n",
            "1 -1.703303 -1.038038  \n",
            "2 -1.641518  0.489402  \n",
            "3 -1.953950 -0.906296  \n",
            "4 -0.823122  0.348055  \n"
          ]
        }
      ]
    },
    {
      "cell_type": "markdown",
      "source": [
        "# Data Preprocessing"
      ],
      "metadata": {
        "id": "ZCrL24oCEfM3"
      }
    },
    {
      "cell_type": "code",
      "source": [
        "# Menghapus kolom yang tidak relevan (jika ada) dan mempersiapkan data untuk model.\n",
        "X = dataset.drop(columns=['Cluster'])  # Cluster sebagai target\n",
        "y = dataset['Cluster']  # Target variabel\n",
        "\n",
        "# Encoding kolom kategorikal jika ada\n",
        "categorical_cols = X.select_dtypes(include=['object', 'bool']).columns\n",
        "if len(categorical_cols) > 0:\n",
        "    print(\"\\nKolom Kategorikal yang Ditemukan:\", list(categorical_cols))\n",
        "    encoder = LabelEncoder()\n",
        "    for col in categorical_cols:\n",
        "        X[col] = encoder.fit_transform(X[col])\n",
        "        print(f\"Kolom '{col}' telah di-encode.\")\n",
        "else:\n",
        "    print(\"\\nTidak ada kolom kategorikal yang perlu di-encode.\")\n",
        "\n"
      ],
      "metadata": {
        "id": "_KitL1nvEirK",
        "colab": {
          "base_uri": "https://localhost:8080/"
        },
        "outputId": "62d7f3ba-7b42-40ca-d729-c7dab61b8ad8"
      },
      "execution_count": 45,
      "outputs": [
        {
          "output_type": "stream",
          "name": "stdout",
          "text": [
            "\n",
            "Tidak ada kolom kategorikal yang perlu di-encode.\n"
          ]
        }
      ]
    },
    {
      "cell_type": "markdown",
      "source": [
        "# **3. Data Splitting**"
      ],
      "metadata": {
        "id": "KkPem5eWL2UP"
      }
    },
    {
      "cell_type": "markdown",
      "source": [
        "Tahap Data Splitting bertujuan untuk memisahkan dataset menjadi dua bagian: data latih (training set) dan data uji (test set)."
      ],
      "metadata": {
        "id": "YYj1rl_JNI9Y"
      }
    },
    {
      "cell_type": "code",
      "source": [
        "# Membagi data menjadi training dan testing set\n",
        "X_train, X_test, y_train, y_test = train_test_split(X, y, test_size=0.2, random_state=42, stratify=y)\n",
        "print(\"\\nJumlah Data:\")\n",
        "print(\"Training Set:\", X_train.shape)\n",
        "print(\"Testing Set:\", X_test.shape)\n",
        "\n",
        "# Standardisasi data numerik\n",
        "scaler = StandardScaler()\n",
        "X_train = scaler.fit_transform(X_train)\n",
        "X_test = scaler.transform(X_test)\n",
        "print(\"\\nStandardisasi data berhasil dilakukan.\")"
      ],
      "metadata": {
        "colab": {
          "base_uri": "https://localhost:8080/"
        },
        "id": "PzD0iAU3Oi2J",
        "outputId": "a9f50e8a-f59d-4311-be7a-464f2b422a7a"
      },
      "execution_count": 46,
      "outputs": [
        {
          "output_type": "stream",
          "name": "stdout",
          "text": [
            "\n",
            "Jumlah Data:\n",
            "Training Set: (1600, 11)\n",
            "Testing Set: (400, 11)\n",
            "\n",
            "Standardisasi data berhasil dilakukan.\n"
          ]
        }
      ]
    },
    {
      "cell_type": "markdown",
      "source": [
        "# **4. Membangun Model Klasifikasi**\n"
      ],
      "metadata": {
        "id": "IVPbB03CMhTT"
      }
    },
    {
      "cell_type": "markdown",
      "source": [
        "## **a. Membangun Model Klasifikasi**"
      ],
      "metadata": {
        "id": "Ned1pL9zMmBK"
      }
    },
    {
      "cell_type": "markdown",
      "source": [
        "Setelah memilih algoritma klasifikasi yang sesuai, langkah selanjutnya adalah melatih model menggunakan data latih.\n",
        "\n",
        "Berikut adalah rekomendasi tahapannya.\n",
        "1. Pilih algoritma klasifikasi yang sesuai, seperti Logistic Regression, Decision Tree, Random Forest, atau K-Nearest Neighbors (KNN).\n",
        "2. Latih model menggunakan data latih."
      ],
      "metadata": {
        "id": "WAWzPOE4Nkti"
      }
    },
    {
      "cell_type": "code",
      "source": [
        "# Logistic Regression\n",
        "logistic_model = LogisticRegression(random_state=42, max_iter=500)\n",
        "logistic_model.fit(X_train, y_train)\n",
        "print(\"\\nModel Logistic Regression telah dilatih.\")\n",
        "\n",
        "# Random Forest Classifier\n",
        "random_forest_model = RandomForestClassifier(random_state=42, n_estimators=100, max_depth=10)\n",
        "random_forest_model.fit(X_train, y_train)\n",
        "print(\"Model Random Forest telah dilatih.\")"
      ],
      "metadata": {
        "colab": {
          "base_uri": "https://localhost:8080/"
        },
        "id": "fO_BdKn-OlVR",
        "outputId": "46a3ce07-f75b-4cb1-ebfe-e1f2d93bf62d"
      },
      "execution_count": 50,
      "outputs": [
        {
          "output_type": "stream",
          "name": "stdout",
          "text": [
            "\n",
            "Model Logistic Regression telah dilatih.\n",
            "Model Random Forest telah dilatih.\n"
          ]
        }
      ]
    },
    {
      "cell_type": "markdown",
      "source": [
        "Tulis narasi atau penjelasan algoritma yang Anda gunakan."
      ],
      "metadata": {
        "id": "seYoHNY3XU1y"
      }
    },
    {
      "cell_type": "markdown",
      "source": [
        "## **b. Evaluasi Model Klasifikasi**"
      ],
      "metadata": {
        "id": "ergzChZFEL-O"
      }
    },
    {
      "cell_type": "markdown",
      "source": [
        "Berikut adalah **rekomendasi** tahapannya.\n",
        "1. Lakukan prediksi menggunakan data uji.\n",
        "2. Hitung metrik evaluasi seperti Accuracy dan F1-Score (Opsional: Precision dan Recall).\n",
        "3. Buat confusion matrix untuk melihat detail prediksi benar dan salah."
      ],
      "metadata": {
        "id": "zOm68u-7NpLT"
      }
    },
    {
      "cell_type": "code",
      "source": [
        "# Evaluasi pada data uji (testing set)\n",
        "y_pred_logistic = logistic_model.predict(X_test)\n",
        "y_pred_rf = random_forest_model.predict(X_test)\n",
        "\n",
        "accuracy_logistic = accuracy_score(y_test, y_pred_logistic)\n",
        "f1_logistic = f1_score(y_test, y_pred_logistic, average='weighted')\n",
        "\n",
        "accuracy_rf = accuracy_score(y_test, y_pred_rf)\n",
        "f1_rf = f1_score(y_test, y_pred_rf, average='weighted')\n",
        "\n",
        "print(\"\\nHasil Evaluasi pada Data Uji:\")\n",
        "print(f\"Logistic Regression - Accuracy: {accuracy_logistic:.4f}, F1-Score: {f1_logistic:.4f}\")\n",
        "print(f\"Random Forest - Accuracy: {accuracy_rf:.4f}, F1-Score: {f1_rf:.4f}\")\n",
        "\n",
        "# Confusion Matrix untuk Logistic Regression\n",
        "cm_logistic = confusion_matrix(y_test, y_pred_logistic)\n",
        "print(\"\\nConfusion Matrix - Logistic Regression:\")\n",
        "print(cm_logistic)\n",
        "\n",
        "# Confusion Matrix untuk Random Forest\n",
        "cm_rf = confusion_matrix(y_test, y_pred_rf)\n",
        "print(\"\\nConfusion Matrix - Random Forest:\")\n",
        "print(cm_rf)\n",
        "\n",
        "# Visualisasi Confusion Matrix (Opsional)\n",
        "plt.figure(figsize=(12, 5))\n",
        "plt.subplot(1, 2, 1)\n",
        "sns.heatmap(cm_logistic, annot=True, fmt='d', cmap='Blues')\n",
        "plt.title('Confusion Matrix - Logistic Regression')\n",
        "plt.xlabel('Predicted')\n",
        "plt.ylabel('Actual')\n",
        "\n",
        "plt.subplot(1, 2, 2)\n",
        "sns.heatmap(cm_rf, annot=True, fmt='d', cmap='Greens')\n",
        "plt.title('Confusion Matrix - Random Forest')\n",
        "plt.xlabel('Predicted')\n",
        "plt.ylabel('Actual')\n",
        "\n",
        "plt.tight_layout()\n",
        "plt.show()"
      ],
      "metadata": {
        "colab": {
          "base_uri": "https://localhost:8080/",
          "height": 743
        },
        "id": "07P_3LQLOn29",
        "outputId": "c5240bac-46bb-4007-fb4b-81f0ef7d53fa"
      },
      "execution_count": 52,
      "outputs": [
        {
          "output_type": "stream",
          "name": "stdout",
          "text": [
            "\n",
            "Hasil Evaluasi pada Data Uji:\n",
            "Logistic Regression - Accuracy: 0.9875, F1-Score: 0.9875\n",
            "Random Forest - Accuracy: 0.9275, F1-Score: 0.9273\n",
            "\n",
            "Confusion Matrix - Logistic Regression:\n",
            "[[142   0   0]\n",
            " [  2 136   0]\n",
            " [  2   1 117]]\n",
            "\n",
            "Confusion Matrix - Random Forest:\n",
            "[[138   4   0]\n",
            " [  7 128   3]\n",
            " [  8   7 105]]\n"
          ]
        },
        {
          "output_type": "display_data",
          "data": {
            "text/plain": [
              "<Figure size 1200x500 with 4 Axes>"
            ],
            "image/png": "[encoded data removed]"
          },
          "metadata": {}
        }
      ]
    },
    {
      "cell_type": "markdown",
      "source": [
        "Tulis hasil evaluasi algoritma yang digunakan, jika Anda menggunakan 2 algoritma, maka bandingkan hasilnya."
      ],
      "metadata": {
        "id": "H4_9OwrsXZlz"
      }
    },
    {
      "cell_type": "markdown",
      "source": [
        "## **c. Tuning Model Klasifikasi (Optional)**"
      ],
      "metadata": {
        "id": "ph9yIYDXEPuB"
      }
    },
    {
      "cell_type": "markdown",
      "source": [
        "Gunakan GridSearchCV, RandomizedSearchCV, atau metode lainnya untuk mencari kombinasi hyperparameter terbaik"
      ],
      "metadata": {
        "id": "-Bikx3LINv5e"
      }
    },
    {
      "cell_type": "code",
      "source": [],
      "metadata": {
        "id": "winbFzb8NL95"
      },
      "execution_count": null,
      "outputs": []
    },
    {
      "cell_type": "markdown",
      "source": [
        "## **d. Evaluasi Model Klasifikasi setelah Tuning (Optional)**"
      ],
      "metadata": {
        "id": "hE7pqlEPEYzI"
      }
    },
    {
      "cell_type": "markdown",
      "source": [
        "Berikut adalah rekomendasi tahapannya.\n",
        "1. Gunakan model dengan hyperparameter terbaik.\n",
        "2. Hitung ulang metrik evaluasi untuk melihat apakah ada peningkatan performa."
      ],
      "metadata": {
        "id": "feaPESoeN0zz"
      }
    },
    {
      "cell_type": "code",
      "source": [],
      "metadata": {
        "id": "HTXZRvEeNMb1"
      },
      "execution_count": null,
      "outputs": []
    },
    {
      "cell_type": "markdown",
      "source": [
        "## **e. Analisis Hasil Evaluasi Model Klasifikasi**"
      ],
      "metadata": {
        "id": "ZRsOdm4uEgAW"
      }
    },
    {
      "cell_type": "markdown",
      "source": [
        "Berikut adalah **rekomendasi** tahapannya.\n",
        "\n",
        "\n",
        "---\n",
        "\n",
        "1. Perbandingan Hasil Evaluasi Sebelum dan Setelah Tuning\n",
        "\n",
        "- Sebelum tuning, model Logistic Regression dan Random Forest memiliki akurasi dan F1-Score yang berbeda. Logistic Regression cenderung lebih sederhana, tetapi mungkin kurang optimal dalam menangani data yang kompleks.\n",
        "\n",
        "- Setelah tuning (menggunakan GridSearchCV atau RandomizedSearchCV), Random Forest umumnya menunjukkan peningkatan performa karena hyperparameter seperti jumlah pohon (n_estimators) dan kedalaman maksimum (max_depth) dapat disesuaikan untuk mengurangi overfitting atau underfitting.\n",
        "\n",
        "\n",
        "---\n",
        "\n",
        "\n",
        "2. Identifikasi Kelemahan Model\n",
        "- Precision atau Recall Rendah untuk Kelas Tertentu: Jika dataset memiliki distribusi kelas yang tidak seimbang, model mungkin memiliki precision atau recall rendah pada kelas minoritas. Hal ini dapat diidentifikasi melalui confusion matrix.\n",
        "\n",
        "Overfitting atau Underfitting:\n",
        "\n",
        "- Logistic Regression mungkin mengalami underfitting jika data tidak linier atau terlalu kompleks.\n",
        "- Random Forest berisiko overfitting jika jumlah pohon terlalu banyak atau kedalaman pohon tidak dibatasi.\n",
        "\n",
        "\n",
        "---\n",
        "\n",
        "\n",
        "3. Rekomendasi Tindakan Lanjutan\n",
        "\n",
        "- Mengumpulkan Data Tambahan: Jika model menunjukkan performa buruk karena kurangnya data, terutama untuk kelas minoritas, pengumpulan data tambahan dapat membantu.\n",
        "- Mencoba Algoritma Lain: Algoritma seperti Gradient Boosting (XGBoost, LightGBM) atau Support Vector Machine (SVM) dapat dicoba untuk meningkatkan performa.\n",
        "- Penanganan Ketidakseimbangan Kelas: Jika dataset tidak seimbang, gunakan teknik seperti oversampling (SMOTE) atau undersampling untuk menyeimbangkan distribusi kelas.\n",
        "- Feature Engineering: Menambahkan fitur baru yang relevan atau menghapus fitur yang kurang informatif dapat meningkatkan performa model.\n",
        "- Evaluasi dengan Metrik Tambahan: Selain akurasi dan F1-Score, gunakan metrik lain seperti ROC-AUC untuk mengevaluasi kemampuan model secara keseluruhan."
      ],
      "metadata": {
        "id": "Hm3BhSi6N4_l"
      }
    }
  ]
}